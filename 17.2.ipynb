{
 "cells": [
  {
   "cell_type": "markdown",
   "metadata": {},
   "source": [
    "## Name: Alejandra Hernandez\n",
    "## Date: 12/11/2020\n",
    "## Desc:"
   ]
  },
  {
   "cell_type": "markdown",
   "metadata": {},
   "source": [
    "### 17.2 (Cursor Method fetchall and Attribute description) When you use a sqlite3 Cursor’s execute method to perform a query, the query’s results are stored in the Cursor object."
   ]
  },
  {
   "cell_type": "markdown",
   "metadata": {},
   "source": [
    "_____________________________________________________________________________________________________________________________\n"
   ]
  },
  {
   "cell_type": "markdown",
   "metadata": {},
   "source": [
    "### Open the books database and use Cursor method execute to select all the data in the titles table, then use description and fetchall to display the data in tabular format."
   ]
  },
  {
   "cell_type": "code",
   "execution_count": 1,
   "metadata": {},
   "outputs": [],
   "source": [
    "import sqlite3"
   ]
  },
  {
   "cell_type": "code",
   "execution_count": 2,
   "metadata": {},
   "outputs": [],
   "source": [
    "conn = sqlite3.connect('books.db')"
   ]
  },
  {
   "cell_type": "code",
   "execution_count": 3,
   "metadata": {},
   "outputs": [],
   "source": [
    "c = conn.cursor()"
   ]
  },
  {
   "cell_type": "code",
   "execution_count": 6,
   "metadata": {},
   "outputs": [
    {
     "name": "stdout",
     "output_type": "stream",
     "text": [
      "('isbn', None, None, None, None, None, None)\n",
      "('title', None, None, None, None, None, None)\n",
      "('edition', None, None, None, None, None, None)\n",
      "('copyright', None, None, None, None, None, None)\n"
     ]
    }
   ],
   "source": [
    "for column in c.execute('SELECT * FROM titles').description:\n",
    "    print(column)"
   ]
  },
  {
   "cell_type": "code",
   "execution_count": 7,
   "metadata": {},
   "outputs": [
    {
     "data": {
      "text/plain": [
       "[('0135404673', 'Intro to Python for CS and DS', 1, '2020'),\n",
       " ('0132151006', 'Internet & WWW How to Program', 5, '2012'),\n",
       " ('0134743350', 'Java How to Program', 11, '2018'),\n",
       " ('0133976890', 'C How to Program', 8, '2016'),\n",
       " ('0133406954', 'Visual Basic 2012 How to Program', 6, '2014'),\n",
       " ('0134601548', 'Visual C# How to Program', 6, '2017'),\n",
       " ('0136151574', 'Visual C++ How to Program', 2, '2008'),\n",
       " ('0134448235', 'C++ How to Program', 10, '2017'),\n",
       " ('0134444302', 'Android How to Program', 3, '2017'),\n",
       " ('0134289366', 'Android 6 for Programmers', 3, '2016'),\n",
       " ('785647895', 'myBook', 4, '2020')]"
      ]
     },
     "execution_count": 7,
     "metadata": {},
     "output_type": "execute_result"
    }
   ],
   "source": [
    "c.fetchall()"
   ]
  },
  {
   "cell_type": "code",
   "execution_count": null,
   "metadata": {},
   "outputs": [],
   "source": []
  }
 ],
 "metadata": {
  "kernelspec": {
   "display_name": "Python 3",
   "language": "python",
   "name": "python3"
  },
  "language_info": {
   "codemirror_mode": {
    "name": "ipython",
    "version": 3
   },
   "file_extension": ".py",
   "mimetype": "text/x-python",
   "name": "python",
   "nbconvert_exporter": "python",
   "pygments_lexer": "ipython3",
   "version": "3.8.3"
  }
 },
 "nbformat": 4,
 "nbformat_minor": 4
}
